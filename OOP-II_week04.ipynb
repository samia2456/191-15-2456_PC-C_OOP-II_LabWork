{
  "nbformat": 4,
  "nbformat_minor": 0,
  "metadata": {
    "colab": {
      "name": "Copy of Copy of Lab Session 4.ipynb",
      "provenance": [],
      "include_colab_link": true
    },
    "kernelspec": {
      "name": "python3",
      "display_name": "Python 3"
    }
  },
  "cells": [
    {
      "cell_type": "markdown",
      "metadata": {
        "id": "view-in-github",
        "colab_type": "text"
      },
      "source": [
        "<a href=\"https://colab.research.google.com/github/samia2456/191-15-2456_PC-C_OOP-II_LabWork/blob/master/OOP-II_week04.ipynb\" target=\"_parent\"><img src=\"https://colab.research.google.com/assets/colab-badge.svg\" alt=\"Open In Colab\"/></a>"
      ]
    },
    {
      "cell_type": "code",
      "metadata": {
        "id": "dv5fgiINPQhy",
        "colab": {
          "base_uri": "https://localhost:8080/"
        },
        "outputId": "54c16d13-7d8c-415b-e53d-2c5517c9da75"
      },
      "source": [
        "#creating list\n",
        "lst0=[191,15,2456,\"pc-c\",\"Mahsuba Meherunnessa Samia\",[1,2,3,4,5,]]\n",
        "lst2=[1,4,5,6,7]\n",
        "lst1=[242345,423534,4325,\"CSE\"]\n",
        "\n",
        "print(lst0)\n",
        "\n",
        "print(lst1)\n",
        "\n",
        "print(lst2)"
      ],
      "execution_count": 1,
      "outputs": [
        {
          "output_type": "stream",
          "text": [
            "[191, 15, 2456, 'pc-c', 'Mahsuba Meherunnessa Samia', [1, 2, 3, 4, 5]]\n",
            "[242345, 423534, 4325, 'CSE']\n",
            "[1, 4, 5, 6, 7]\n"
          ],
          "name": "stdout"
        }
      ]
    },
    {
      "cell_type": "code",
      "metadata": {
        "id": "OzhLaNmjPibF",
        "colab": {
          "base_uri": "https://localhost:8080/"
        },
        "outputId": "3efe1647-f44e-48e9-ad92-8ced6aee33c5"
      },
      "source": [
        "#iterating list\n",
        "\n",
        "lst0=[191,15,2456,\"pc-c\",\"Mahsuba Meherunnessa Samia\",[1,2,3,4,5,]]\n",
        "lst1=[242345,423534,4325,\"CSE\"]\n",
        "lst2=[1,4,5,6,7]\n",
        "\n",
        "\n",
        "for i in lst0:\n",
        "    print(i,end=' ')\n",
        "print('')\n",
        "for i in lst1:\n",
        "    print(i,end=' ')\n",
        "print('')\n",
        "for i in lst2:\n",
        "    print(i,end=' ')\n",
        "print('')"
      ],
      "execution_count": 3,
      "outputs": [
        {
          "output_type": "stream",
          "text": [
            "191 15 2456 pc-c Mahsuba Meherunnessa Samia [1, 2, 3, 4, 5] \n",
            "242345 423534 4325 CSE \n",
            "1 4 5 6 7 \n"
          ],
          "name": "stdout"
        }
      ]
    },
    {
      "cell_type": "code",
      "metadata": {
        "id": "KNxT03XVQl1s",
        "colab": {
          "base_uri": "https://localhost:8080/"
        },
        "outputId": "cbc15266-4516-477b-9ae1-5bb00bafaa21"
      },
      "source": [
        "#iterating list\n",
        "\n",
        "lst0=[191,15,2456,\"pc-c\",\"Mahsuba Meherunnessa Samia\",[1,2,3,4,5,]]\n",
        "print(lst0[2])\n",
        "print(lst0[3])\n",
        "print(lst0[4])\n"
      ],
      "execution_count": 4,
      "outputs": [
        {
          "output_type": "stream",
          "text": [
            "2456\n",
            "pc-c\n",
            "Mahsuba Meherunnessa Samia\n"
          ],
          "name": "stdout"
        }
      ]
    },
    {
      "cell_type": "code",
      "metadata": {
        "id": "068-O8s6RPqT",
        "colab": {
          "base_uri": "https://localhost:8080/"
        },
        "outputId": "05d58026-fb6d-44c9-b384-3ef369fdd84d"
      },
      "source": [
        "#List operations\n",
        "\n",
        "lst0=[1,2,3,32,2.23,43.23,\"python\",[2,32,3]]\n",
        "\n",
        "print(len(lst0))                #len( ) gives the length of the list\n",
        "\n",
        "lst0.append([12,2,12,2])        #append( ) inserts an element to the end of the list\n",
        "print(lst0)\n",
        "\n",
        "lst0.insert(2,\"pandas\")         #insert( ) insertes an element on a given index\n",
        "print(lst0)\n",
        "\n",
        "lst0.remove(3)                  #remove( ) removes first occurence of an element\n",
        "print(lst0)\n",
        "\n",
        "print(lst0.index(\"python\"))     #index( ) returns index of first occurence of an element\n",
        "\n",
        "print(lst0.count('pandas'))     #count( ) reuturns the number of occurence of an element\n",
        "\n",
        "print(lst0.reverse())           #reverse( ) makes a reverse list\n",
        "\n",
        "lst1=lst0.copy()                #copy( ) makes a copy of list\n",
        "print(lst1)\n",
        "\n",
        "lst0.clear()                    #clear( ) makes the list empty\n",
        "print(lst0)"
      ],
      "execution_count": null,
      "outputs": [
        {
          "output_type": "stream",
          "text": [
            "8\n",
            "[1, 2, 3, 32, 2.23, 43.23, 'python', [2, 32, 3], [12, 2, 12, 2]]\n",
            "[1, 2, 'pandas', 3, 32, 2.23, 43.23, 'python', [2, 32, 3], [12, 2, 12, 2]]\n",
            "[1, 2, 'pandas', 32, 2.23, 43.23, 'python', [2, 32, 3], [12, 2, 12, 2]]\n",
            "6\n",
            "1\n",
            "None\n",
            "[[12, 2, 12, 2], [2, 32, 3], 'python', 43.23, 2.23, 32, 'pandas', 2, 1]\n",
            "[]\n"
          ],
          "name": "stdout"
        }
      ]
    },
    {
      "cell_type": "code",
      "metadata": {
        "id": "Efc_Q8FCU1RZ",
        "colab": {
          "base_uri": "https://localhost:8080/"
        },
        "outputId": "c8172285-4de9-41d8-8426-6e1a76284d9b"
      },
      "source": [
        "#lsit slicing\n",
        "\n",
        "lst0=[191,15,2456,\"pc-c\",\"Mahsuba Meherunnessa Samia\",[1,2,3,4,5,]]\n",
        "\n",
        "print(lst0[2:7])\n",
        "print(lst0[2:])\n",
        "print(lst0[:5])\n",
        "print(lst0[:])"
      ],
      "execution_count": 5,
      "outputs": [
        {
          "output_type": "stream",
          "text": [
            "[2456, 'pc-c', 'Mahsuba Meherunnessa Samia', [1, 2, 3, 4, 5]]\n",
            "[2456, 'pc-c', 'Mahsuba Meherunnessa Samia', [1, 2, 3, 4, 5]]\n",
            "[191, 15, 2456, 'pc-c', 'Mahsuba Meherunnessa Samia']\n",
            "[191, 15, 2456, 'pc-c', 'Mahsuba Meherunnessa Samia', [1, 2, 3, 4, 5]]\n"
          ],
          "name": "stdout"
        }
      ]
    },
    {
      "cell_type": "code",
      "metadata": {
        "id": "VcznBtQPWFD1",
        "colab": {
          "base_uri": "https://localhost:8080/"
        },
        "outputId": "b1cdab72-bca2-4e3b-d170-829b4e193252"
      },
      "source": [
        "#list sorting\n",
        "\n",
        "lst0=[191,15,2456,\"pc-c\",\"Mahsuba Meherunnessa Samia\",[1,2,3,4,5,]]\n",
        "\n",
        "lst3=sorted(lst2)\n",
        "print(lst3)\n",
        "print(lst2)\n",
        "lst2.sort()\n",
        "print(lst2)"
      ],
      "execution_count": 7,
      "outputs": [
        {
          "output_type": "stream",
          "text": [
            "[1, 4, 5, 6, 7]\n",
            "[1, 4, 5, 6, 7]\n",
            "[1, 4, 5, 6, 7]\n"
          ],
          "name": "stdout"
        }
      ]
    },
    {
      "cell_type": "code",
      "metadata": {
        "id": "CsnsqMPsWn6m",
        "colab": {
          "base_uri": "https://localhost:8080/"
        },
        "outputId": "c4fd2034-5ecc-4cd7-bd1a-b65b21d5c2a7"
      },
      "source": [
        "#creating tuple\n",
        "\n",
        "MAR0=[191,15,2456,\"pc-c\",\"Mahsuba Meherunnessa Samia\",[1,2,3,4,5,]]\n",
        "print(MAR0)\n",
        "MAR1=()\n",
        "print(MAR1)\n",
        "MAR2=tuple()\n",
        "print(MAR2)"
      ],
      "execution_count": 8,
      "outputs": [
        {
          "output_type": "stream",
          "text": [
            "[191, 15, 2456, 'pc-c', 'Mahsuba Meherunnessa Samia', [1, 2, 3, 4, 5]]\n",
            "()\n",
            "()\n"
          ],
          "name": "stdout"
        }
      ]
    },
    {
      "cell_type": "code",
      "metadata": {
        "id": "zqLQKHBrXNxY",
        "colab": {
          "base_uri": "https://localhost:8080/"
        },
        "outputId": "350812f6-bb07-4a11-9939-992bead28b78"
      },
      "source": [
        "#iterating tuple\n",
        "\n",
        "MAR0=[191,15,2456,\"pc-c\",\"Mahsuba Meherunnessa Samia\",[1,2,3,4,5,]]\n",
        "for i in MAR0:\n",
        "    print(i,end=' ')\n",
        "print('')"
      ],
      "execution_count": 9,
      "outputs": [
        {
          "output_type": "stream",
          "text": [
            "191 15 2456 pc-c Mahsuba Meherunnessa Samia [1, 2, 3, 4, 5] \n"
          ],
          "name": "stdout"
        }
      ]
    },
    {
      "cell_type": "code",
      "metadata": {
        "id": "KZUEXf9KXyFq",
        "colab": {
          "base_uri": "https://localhost:8080/"
        },
        "outputId": "73f43540-fa52-4653-e90a-648d157483a2"
      },
      "source": [
        "#iterating tuple\n",
        "\n",
        "MAR0=[191,15,2456,\"pc-c\",\"Mahsuba Meherunnessa Samia\",[1,2,3,4,5,]]\n",
        "\n",
        "print(MAR0[0])\n",
        "print(MAR0[1])\n",
        "print(MAR0[2])\n",
        "print(MAR0[3])\n"
      ],
      "execution_count": 10,
      "outputs": [
        {
          "output_type": "stream",
          "text": [
            "191\n",
            "15\n",
            "2456\n",
            "pc-c\n"
          ],
          "name": "stdout"
        }
      ]
    },
    {
      "cell_type": "code",
      "metadata": {
        "id": "J0R9_6tYYU6j",
        "colab": {
          "base_uri": "https://localhost:8080/"
        },
        "outputId": "000d4456-638a-46cb-f860-fa859f381a09"
      },
      "source": [
        "#inserting into tuple\n",
        "\n",
        "tp0=[191,15,2456,\"pc-c\",\"Mahsuba Meherunnessa Samia\",[1,2,3,4,5,]]\n",
        "tp0+=(\"pandas\",232,3,232,3)\n",
        "print(tp0)"
      ],
      "execution_count": 11,
      "outputs": [
        {
          "output_type": "stream",
          "text": [
            "[191, 15, 2456, 'pc-c', 'Mahsuba Meherunnessa Samia', [1, 2, 3, 4, 5], 'pandas', 232, 3, 232, 3]\n"
          ],
          "name": "stdout"
        }
      ]
    },
    {
      "cell_type": "code",
      "metadata": {
        "id": "ZWp59vSEZfJJ",
        "colab": {
          "base_uri": "https://localhost:8080/"
        },
        "outputId": "58014681-5b9c-49af-f1b5-521db53f69c1"
      },
      "source": [
        "#unpacking sequences\n",
        "\n",
        "MARUF=(191, 15, 2456, 'PC-C')\n",
        "a,b,c,d=MARUF\n",
        "print(a)\n",
        "print(b)\n",
        "print(c)\n",
        "print(d)"
      ],
      "execution_count": 12,
      "outputs": [
        {
          "output_type": "stream",
          "text": [
            "191\n",
            "15\n",
            "2456\n",
            "PC-C\n"
          ],
          "name": "stdout"
        }
      ]
    },
    {
      "cell_type": "code",
      "metadata": {
        "id": "o-2Xal8TZ1mo",
        "colab": {
          "base_uri": "https://localhost:8080/"
        },
        "outputId": "ed073d09-4182-4354-f3ec-a294c07e8990"
      },
      "source": [
        "#unpacking sequences\n",
        "\n",
        "MARUF=(191, 15, 2456, 'PC-C')\n",
        "a,b,c,d=MARUF\n",
        "print(a)\n",
        "print(b)\n",
        "print(c)\n",
        "print(d)"
      ],
      "execution_count": 13,
      "outputs": [
        {
          "output_type": "stream",
          "text": [
            "191\n",
            "15\n",
            "2456\n",
            "PC-C\n"
          ],
          "name": "stdout"
        }
      ]
    }
  ]
}