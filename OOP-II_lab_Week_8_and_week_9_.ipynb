{
  "nbformat": 4,
  "nbformat_minor": 0,
  "metadata": {
    "colab": {
      "name": "Copy of Copy of Week 8 and week 9 .ipynb",
      "provenance": [],
      "include_colab_link": true
    },
    "kernelspec": {
      "name": "python3",
      "display_name": "Python 3"
    }
  },
  "cells": [
    {
      "cell_type": "markdown",
      "metadata": {
        "id": "view-in-github",
        "colab_type": "text"
      },
      "source": [
        "<a href=\"https://colab.research.google.com/github/samia2456/191-15-2456_PC-C_OOP-II_LabWork/blob/master/OOP-II_lab_Week_8_and_week_9_.ipynb\" target=\"_parent\"><img src=\"https://colab.research.google.com/assets/colab-badge.svg\" alt=\"Open In Colab\"/></a>"
      ]
    },
    {
      "cell_type": "markdown",
      "metadata": {
        "id": "3gqXbdbnpSzV"
      },
      "source": [
        "week 8"
      ]
    },
    {
      "cell_type": "code",
      "metadata": {
        "id": "lzEVifoCpWxM"
      },
      "source": [
        "class Ball():\r\n",
        "  def __init__(self):\r\n",
        "    print(f'Ball created!')\r\n",
        "  \r\n",
        "  def who_am_i(self):\r\n",
        "    print(f'i am ball')"
      ],
      "execution_count": null,
      "outputs": []
    },
    {
      "cell_type": "code",
      "metadata": {
        "id": "BMUMGEiUpeNx"
      },
      "source": [
        "class Football(Ball):\r\n",
        "  def __init__(self):\r\n",
        "    #create instances of Ball\r\n",
        "    Ball.__init__(self)\r\n",
        "    print(f'football created!')"
      ],
      "execution_count": null,
      "outputs": []
    },
    {
      "cell_type": "code",
      "metadata": {
        "colab": {
          "base_uri": "https://localhost:8080/"
        },
        "id": "bZpkv41JpljD",
        "outputId": "21ac5592-a128-40e5-d967-352c0b798a20"
      },
      "source": [
        "myFootball = Football()"
      ],
      "execution_count": null,
      "outputs": [
        {
          "output_type": "stream",
          "text": [
            "Ball created!\n",
            "football created!\n"
          ],
          "name": "stdout"
        }
      ]
    },
    {
      "cell_type": "code",
      "metadata": {
        "colab": {
          "base_uri": "https://localhost:8080/"
        },
        "id": "Z9NJP6jrpqv-",
        "outputId": "e11db021-3b59-45cb-de7f-5ed5698abde0"
      },
      "source": [
        "myFootball.who_am_i()"
      ],
      "execution_count": null,
      "outputs": [
        {
          "output_type": "stream",
          "text": [
            "i am ball\n"
          ],
          "name": "stdout"
        }
      ]
    },
    {
      "cell_type": "code",
      "metadata": {
        "id": "aUJWmmUIpuiG"
      },
      "source": [
        "class Football(Ball):\r\n",
        "  def __init__(self):\r\n",
        "    #create instances of Ball\r\n",
        "    super().__init__(self)\r\n",
        "    print(f'football created!')"
      ],
      "execution_count": null,
      "outputs": []
    },
    {
      "cell_type": "code",
      "metadata": {
        "id": "-Sf1E0FPvB_u"
      },
      "source": [
        "myFootball = Football()"
      ],
      "execution_count": null,
      "outputs": []
    },
    {
      "cell_type": "code",
      "metadata": {
        "id": "aiw3UKn8sIRE"
      },
      "source": [
        "class Football(Ball):\r\n",
        "  def __init__(self):\r\n",
        "    #create instances of Ball\r\n",
        "    Ball.__init__(self)\r\n",
        "    print(f'football created!')\r\n",
        "  #overide base class method\r\n",
        "  def who_am_i(self):\r\n",
        "    print(f'i am football!')"
      ],
      "execution_count": null,
      "outputs": []
    },
    {
      "cell_type": "code",
      "metadata": {
        "colab": {
          "base_uri": "https://localhost:8080/"
        },
        "id": "ygyooQIVsNmF",
        "outputId": "e0321de8-7165-4d3a-c118-86daf1dc572a"
      },
      "source": [
        "\r\n",
        "#create object\r\n",
        "myFootball = Football()\r\n",
        "#call overide method\r\n",
        "myFootball.who_am_i()"
      ],
      "execution_count": null,
      "outputs": [
        {
          "output_type": "stream",
          "text": [
            "Ball created!\n",
            "football created!\n",
            "i am football!\n"
          ],
          "name": "stdout"
        }
      ]
    },
    {
      "cell_type": "code",
      "metadata": {
        "id": "Wg6okt74sSBr"
      },
      "source": [
        "class Football(Ball):\r\n",
        "  def __init__(self):\r\n",
        "    #create instances of Ball\r\n",
        "    Ball.__init__(self)\r\n",
        "    print(f'football created!')\r\n",
        "  #overide base class method\r\n",
        "  def who_am_i(self):\r\n",
        "    print(f'i am football!')\r\n",
        "  #new method\r\n",
        "  def play(self):\r\n",
        "    print(f'hey! i am ready for play!')"
      ],
      "execution_count": null,
      "outputs": []
    },
    {
      "cell_type": "code",
      "metadata": {
        "colab": {
          "base_uri": "https://localhost:8080/"
        },
        "id": "aSKE0hLUsWcS",
        "outputId": "741ed192-302a-4fb6-c72c-a7e157f5d315"
      },
      "source": [
        "myFootball = Football()\r\n",
        "#call new method\r\n",
        "myFootball.play()"
      ],
      "execution_count": null,
      "outputs": [
        {
          "output_type": "stream",
          "text": [
            "Ball created!\n",
            "football created!\n",
            "hey! i am ready for play!\n"
          ],
          "name": "stdout"
        }
      ]
    },
    {
      "cell_type": "code",
      "metadata": {
        "id": "pxXA5dMPsdJu"
      },
      "source": [
        ""
      ],
      "execution_count": null,
      "outputs": []
    },
    {
      "cell_type": "markdown",
      "metadata": {
        "id": "OQVRvyensiDD"
      },
      "source": [
        "\r\n",
        "Week-9  -Polymorphism in Class Methods"
      ]
    },
    {
      "cell_type": "code",
      "metadata": {
        "id": "5gb9TR12skdc"
      },
      "source": [
        "class Cat:\r\n",
        "    def __init__(self, name, age):\r\n",
        "        self.name = name\r\n",
        "        self.age = age\r\n",
        "\r\n",
        "    def info(self):\r\n",
        "        print(f\"I am a cat. My name is {self.name}. I am {self.age} years old.\")\r\n",
        "\r\n",
        "    def make_sound(self):\r\n",
        "        print(\"Meow\")"
      ],
      "execution_count": null,
      "outputs": []
    },
    {
      "cell_type": "code",
      "metadata": {
        "id": "krGRkD8fstrb"
      },
      "source": [
        "class Mouse:\r\n",
        "    def __init__(self, name, age):\r\n",
        "        self.name = name\r\n",
        "        self.age = age\r\n",
        "\r\n",
        "    def info(self):\r\n",
        "        print(f\"I am a Mouse. My name is {self.name}. I am {self.age} years old.\")\r\n",
        "\r\n",
        "    def make_sound(self):\r\n",
        "        print(\"Bark\")"
      ],
      "execution_count": null,
      "outputs": []
    },
    {
      "cell_type": "code",
      "metadata": {
        "id": "ZZcxMLVmsxfU"
      },
      "source": [
        "cat1 = Cat(\"tom\", 2.5)\r\n",
        "mouse1 = Mouse(\"jerry\", 4)"
      ],
      "execution_count": null,
      "outputs": []
    },
    {
      "cell_type": "code",
      "metadata": {
        "id": "RMFDG63Ls5Uy"
      },
      "source": [
        "pip install multipledispatch"
      ],
      "execution_count": null,
      "outputs": []
    },
    {
      "cell_type": "code",
      "metadata": {
        "id": "mNI2CpIMtFoP"
      },
      "source": [
        "def add (datatype , *args) :\r\n",
        "  # if datatype is int \r\n",
        "  # initialize answer as 0\r\n",
        "  if datatype --'int' :\r\n",
        "    answer = 0\r\n",
        "    # if datatype is str\r\n",
        "    # initialize answer as ''\r\n",
        "    if datatype =='str' :\r\n",
        "       answer -''\r\n",
        "    # Traverse Through The Arguments\r\n",
        "    for x in args:\r\n",
        "      # This will do addition if the\r\n",
        "      # arguments are int. or concatenation\r\n",
        "      # if the arguments are str\r\n",
        "      answer = answer + x \r\n",
        "      print(answer)\r\n",
        "      # integer\r\n",
        "      add('int , 5 , 6')\r\n",
        "      # string \r\n",
        "      add('str' ,'Hi ','Geeks')"
      ],
      "execution_count": null,
      "outputs": []
    },
    {
      "cell_type": "code",
      "metadata": {
        "id": "OWjUN8hCtKdo"
      },
      "source": [
        "class Mathematics:\r\n",
        "  def add (self, *args):\r\n",
        "    sum - 0\r\n",
        "    for a in args:\r\n",
        "      sum - sum + a \r\n",
        "      print(sum)\r\n",
        "      obj = Mathematics() \r\n",
        "      obj.add(8, 9, 12)\r\n",
        "      obj.add(8,9)"
      ],
      "execution_count": null,
      "outputs": []
    },
    {
      "cell_type": "code",
      "metadata": {
        "colab": {
          "base_uri": "https://localhost:8080/"
        },
        "id": "4p3FXIc_tRz7",
        "outputId": "dc90c7bc-f49c-48ef-80c1-da555de79832"
      },
      "source": [
        "for animal in (cat1, mouse1):\r\n",
        "    animal.make_sound()\r\n",
        "    animal.info()\r\n",
        "    animal.make_sound()"
      ],
      "execution_count": null,
      "outputs": [
        {
          "output_type": "stream",
          "text": [
            "Meow\n",
            "I am a cat. My name is tom. I am 2.5 years old.\n",
            "Meow\n",
            "Bark\n",
            "I am a Mouse. My name is jerry. I am 4 years old.\n",
            "Bark\n"
          ],
          "name": "stdout"
        }
      ]
    },
    {
      "cell_type": "code",
      "metadata": {
        "id": "OPigA_BDtTZZ"
      },
      "source": [
        "def add(n1, n2):\r\n",
        "  print(n1+n2)\r\n"
      ],
      "execution_count": null,
      "outputs": []
    },
    {
      "cell_type": "code",
      "metadata": {
        "colab": {
          "base_uri": "https://localhost:8080/"
        },
        "id": "ZqdLwKt_tXwG",
        "outputId": "2c6694f7-e42a-46be-aeae-fd6e7ccec185"
      },
      "source": [
        "add(10,20)"
      ],
      "execution_count": null,
      "outputs": [
        {
          "output_type": "stream",
          "text": [
            "30\n"
          ],
          "name": "stdout"
        }
      ]
    },
    {
      "cell_type": "code",
      "metadata": {
        "id": "ZlaHohyUuQ27"
      },
      "source": [
        "number1=10\r\n",
        "\r\n",
        "number2=input(\"please provide a number: \")\r\n",
        "\r\n",
        "#give an error and after that nothing is executed\r\n",
        "add(number1,number2)\r\n",
        "print(\"add done!\")"
      ],
      "execution_count": null,
      "outputs": []
    },
    {
      "cell_type": "code",
      "metadata": {
        "colab": {
          "base_uri": "https://localhost:8080/"
        },
        "id": "3_zclkhwumjB",
        "outputId": "4706875d-0da5-4498-bfcb-fe4d734671c2"
      },
      "source": [
        "\r\n",
        "try:\r\n",
        "  #want to attempt this code \r\n",
        "  #may have an error\r\n",
        "  result = 10+'10'\r\n",
        "except:\r\n",
        "  print(f'Hey! its looks like you are not adding correctly!')"
      ],
      "execution_count": null,
      "outputs": [
        {
          "output_type": "stream",
          "text": [
            "Hey! its looks like you are not adding correctly!\n"
          ],
          "name": "stdout"
        }
      ]
    },
    {
      "cell_type": "code",
      "metadata": {
        "colab": {
          "base_uri": "https://localhost:8080/"
        },
        "id": "CqUv4-A_uuej",
        "outputId": "feea3a5e-483e-4d95-f2af-ca4492ab3a92"
      },
      "source": [
        "try:\r\n",
        "  #want to attempt this code \r\n",
        "  result = 10+10\r\n",
        "except:\r\n",
        "  print(f'Hey! its looks like you are not adding correctly!')\r\n",
        "else:\r\n",
        "  print(f'add went well')\r\n",
        "  print(f'sum is: {result}')"
      ],
      "execution_count": null,
      "outputs": [
        {
          "output_type": "stream",
          "text": [
            "add went well\n",
            "sum is: 20\n"
          ],
          "name": "stdout"
        }
      ]
    }
  ]
}